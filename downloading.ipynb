{
 "cells": [
  {
   "cell_type": "code",
   "execution_count": 1,
   "metadata": {},
   "outputs": [],
   "source": [
    "import os, sys\n",
    "import glob\n",
    "import json\n",
    "import pandas as pd\n",
    "from simple_image_download import simple_image_download as simp \n",
    "from PIL import Image"
   ]
  },
  {
   "cell_type": "markdown",
   "metadata": {},
   "source": [
    "### Downloading of the pictures "
   ]
  },
  {
   "cell_type": "markdown",
   "metadata": {},
   "source": [
    "#### Downloading the pics for gender identifying neural network"
   ]
  },
  {
   "cell_type": "code",
   "execution_count": 3,
   "metadata": {},
   "outputs": [],
   "source": [
    "SIZE=256\n",
    "gender_dict={'мужчина':0, 'женщина':1}"
   ]
  },
  {
   "cell_type": "markdown",
   "metadata": {},
   "source": [
    "loading the 500 pics for each gender"
   ]
  },
  {
   "cell_type": "code",
   "execution_count": null,
   "metadata": {},
   "outputs": [],
   "source": [
    "for i in gender_dict:\n",
    "    \n",
    "    response = simp.simple_image_download\n",
    "    paths = response().download(keywords=i, limit=500, extensions={'.jpg', '.jpeg'})\n",
    "\n",
    "#rename the folder from simple_images (auto name of the simp) into gender\n",
    "os.rename('simple_images', 'gender')"
   ]
  },
  {
   "cell_type": "markdown",
   "metadata": {},
   "source": [
    "the function that resize the image, to make the models work quicker"
   ]
  },
  {
   "cell_type": "code",
   "execution_count": 4,
   "metadata": {},
   "outputs": [],
   "source": [
    "def resize_image(SIZE, image):\n",
    "    # get the size of pics\n",
    "    size = image.size\n",
    "\n",
    "    # get the coeff to reshape one of the pict to needed size\n",
    "    coef = SIZE / size[0]\n",
    "    # changing the size\n",
    "    resized_image = image.resize(\n",
    "        (int(size[0] * coef), int(size[1] * coef)))\n",
    "    res_image = resized_image.convert('RGB')\n",
    "    return res_image"
   ]
  },
  {
   "cell_type": "code",
   "execution_count": 5,
   "metadata": {},
   "outputs": [],
   "source": [
    "for gender in list(gender_dict.keys()):\n",
    "    # download the files names\n",
    "    files = glob.glob(f'gender/{gender}/*')  \n",
    "    for i in files:\n",
    "            # open the file\n",
    "            image = Image.open(i)\n",
    "            #resize\n",
    "            resize_image(SIZE, image)"
   ]
  },
  {
   "cell_type": "markdown",
   "metadata": {},
   "source": [
    "#### Downloading the pics for the actor prediction"
   ]
  },
  {
   "cell_type": "markdown",
   "metadata": {},
   "source": [
    "open the file with names of actors"
   ]
  },
  {
   "cell_type": "code",
   "execution_count": 6,
   "metadata": {},
   "outputs": [],
   "source": [
    "with open('actors.txt') as json_file:\n",
    "    actors = json.load(json_file)"
   ]
  },
  {
   "cell_type": "code",
   "execution_count": 7,
   "metadata": {},
   "outputs": [
    {
     "data": {
      "text/plain": [
       "{'woman': ['Alicia_Vikander',\n",
       "  'Amy_Adams',\n",
       "  'Andie_MacDowell',\n",
       "  'Angelina_Jolie',\n",
       "  'Anne_Hathaway',\n",
       "  'Cameron_Diaz',\n",
       "  'Carey_Mulligan',\n",
       "  'Cate_Blanchett',\n",
       "  'Catherine_Zeta-Jones',\n",
       "  'Charlize_Theron',\n",
       "  'Claire_Forlani',\n",
       "  'Demi_Moore',\n",
       "  'Drew_Barrymore',\n",
       "  'Elizabeth_Taylor',\n",
       "  'Emma_Stone',\n",
       "  'Emma_Watson',\n",
       "  'Eva_Mendes',\n",
       "  'Frances_McDormand',\n",
       "  'Gwyneth_Paltrow',\n",
       "  'Halle_Berry',\n",
       "  'Hilary_Swank',\n",
       "  'Jennifer_Aniston',\n",
       "  'Jessica_Biel',\n",
       "  'Jessica_Chastain',\n",
       "  'Jodie_Foster',\n",
       "  'Julia_Roberts',\n",
       "  'Julianne_Moore',\n",
       "  'Juliette_Binoche',\n",
       "  'Kate_Winslet',\n",
       "  'Keira_Knightley',\n",
       "  'Kim_Basinger',\n",
       "  'Kirsten_Dunst',\n",
       "  'Kristin_Scott_Thomas',\n",
       "  'Lady_Gaga',\n",
       "  'Maggie_Gyllenhaal',\n",
       "  'Marion_Cotillard',\n",
       "  'Meg_Ryan',\n",
       "  'Megan_Fox',\n",
       "  'Melanie_Laurent',\n",
       "  'Meryl_Streep',\n",
       "  'Michelle_Pfeiffer',\n",
       "  'Milla_Jovovich',\n",
       "  'Naomi_Watts',\n",
       "  'Natalie_Portman',\n",
       "  'Natasha_Henstridge',\n",
       "  'Nicole_Kidman',\n",
       "  'Nina_Dobrev',\n",
       "  'Octavia_Spencer',\n",
       "  'Penelope_Cruz',\n",
       "  'Rachel_McAdams',\n",
       "  'Reese_Witherspoon',\n",
       "  'Renee_Zellweger',\n",
       "  'Rosamund_Pike',\n",
       "  'Sandra_Bullock',\n",
       "  'Scarlett_Johansson',\n",
       "  'Sharon_Stone',\n",
       "  'Sigourney_Weaver',\n",
       "  'Susan_Sarandon',\n",
       "  'Vera_Farmiga',\n",
       "  'Viola_Davis',\n",
       "  'Whoopi_Goldberg',\n",
       "  'Winona_Ryder'],\n",
       " 'man': ['Adam_Sandler',\n",
       "  'Adrien_Brody',\n",
       "  'Al_Pacino',\n",
       "  'Anthony_Hopkins',\n",
       "  'Antonio_Banderas',\n",
       "  'Arnold_Schwarzenegger',\n",
       "  'Ashton_Kutcher',\n",
       "  'Ben_Stiller',\n",
       "  'Ben_Foster',\n",
       "  'Ben_Affleck',\n",
       "  'Brad_Pitt',\n",
       "  'Bruce_Willis',\n",
       "  'Charlie_Sheen',\n",
       "  'Christian_Bale',\n",
       "  'Christoph_Waltz',\n",
       "  'Clint_Eastwood',\n",
       "  'Colin_Firth',\n",
       "  'Cuba_Gooding_Jr.',\n",
       "  'Daniel_Day-Lewis',\n",
       "  'Dennis_Quaid',\n",
       "  'Denzel_Washington',\n",
       "  'Donald_Sutherland',\n",
       "  'Dustin_Hoffman',\n",
       "  'Edward_Norton',\n",
       "  'Gary_Oldman',\n",
       "  'George_Clooney',\n",
       "  'Gerard_Butler',\n",
       "  'Harrison_Ford',\n",
       "  'Hugh_Grant',\n",
       "  'Hugh_Jackman',\n",
       "  'Ian_Holm',\n",
       "  'Jack_Black',\n",
       "  'Jack_Nicholson',\n",
       "  'Jake_Gyllenhaal',\n",
       "  'James_McAvoy',\n",
       "  'Jamie_Foxx',\n",
       "  'Jeff_Goldblum',\n",
       "  'Jeff_Bridges',\n",
       "  'Jeremy_Renner',\n",
       "  'Jim_Carrey',\n",
       "  'John_Travolta',\n",
       "  'John_Malkovich',\n",
       "  'Johnny_Depp',\n",
       "  'Jude_Law',\n",
       "  'Keanu_Reeves',\n",
       "  'Kevin_Spacey',\n",
       "  'Leonardo_DiCaprio',\n",
       "  'Liam_Neeson',\n",
       "  'Martin_Sheen',\n",
       "  'Matt_Damon',\n",
       "  'Matthew_McConaughey',\n",
       "  'Mel_Gibson',\n",
       "  'Michael_Douglas',\n",
       "  'Morgan_Freeman',\n",
       "  'Nicolas_Cage',\n",
       "  'Orlando_Bloom',\n",
       "  'Owen_Wilson',\n",
       "  'Philip_Seymour_Hoffman',\n",
       "  'Robert_De_Niro',\n",
       "  'Russell_Crowe',\n",
       "  'Ryan_Gosling',\n",
       "  'Sam_Rockwell',\n",
       "  'Sam_Neill',\n",
       "  'Samuel_L._Jackson',\n",
       "  'Stephen_Lang',\n",
       "  'Steve_Martin',\n",
       "  'Steve_Carell',\n",
       "  'Sylvester_Stallone',\n",
       "  'Tobey_Maguire',\n",
       "  'Tom_Cruise',\n",
       "  'Tom_Hanks',\n",
       "  'Tommy_Lee_Jones',\n",
       "  'Will_Smith',\n",
       "  'Willem_Dafoe']}"
      ]
     },
     "execution_count": 7,
     "metadata": {},
     "output_type": "execute_result"
    }
   ],
   "source": [
    "actors"
   ]
  },
  {
   "cell_type": "markdown",
   "metadata": {},
   "source": [
    "loading 10 pics of each actor from the internet"
   ]
  },
  {
   "cell_type": "code",
   "execution_count": null,
   "metadata": {},
   "outputs": [],
   "source": [
    "for key in list(actors.keys()):\n",
    "    # пройдемся по каждому имени\n",
    "    for face in actors[key]:\n",
    "        \n",
    "        # выгрузим 10 фотографий по текущему имени\n",
    "        response = simp.simple_image_download\n",
    "        paths = response().download(keywords=face, limit=10, extensions={'.jpg', '.jpeg'})"
   ]
  },
  {
   "cell_type": "markdown",
   "metadata": {},
   "source": [
    "resizing the pics"
   ]
  },
  {
   "cell_type": "code",
   "execution_count": null,
   "metadata": {},
   "outputs": [],
   "source": [
    "for key in list(actors.keys()):\n",
    "    # пройдемся по каждому имени\n",
    "    for face in actors[key]:\n",
    "        # выгрузим все названия файлов из папки\n",
    "        files = glob.glob(f'dataset/{face}/*')   \n",
    "        # пройдемся по списку файлов в цикле\n",
    "        for i in files:\n",
    "                # откроем изображение\n",
    "                image = Image.open(i)\n",
    "                resize_image(SIZE, image)"
   ]
  }
 ],
 "metadata": {
  "kernelspec": {
   "display_name": "Python 3",
   "language": "python",
   "name": "python3"
  },
  "language_info": {
   "codemirror_mode": {
    "name": "ipython",
    "version": 3
   },
   "file_extension": ".py",
   "mimetype": "text/x-python",
   "name": "python",
   "nbconvert_exporter": "python",
   "pygments_lexer": "ipython3",
   "version": "3.8.5"
  }
 },
 "nbformat": 4,
 "nbformat_minor": 4
}
